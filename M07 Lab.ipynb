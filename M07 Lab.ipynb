{
 "cells": [
  {
   "cell_type": "code",
   "execution_count": null,
   "id": "5841982b-c755-47bb-a4f6-cc0d1572f099",
   "metadata": {},
   "outputs": [],
   "source": [
    "import panadas as pd"
   ]
  },
  {
   "cell_type": "code",
   "execution_count": null,
   "id": "fe46e8a4-af90-4702-9710-efe3d973f10a",
   "metadata": {},
   "outputs": [],
   "source": [
    "pd."
   ]
  },
  {
   "cell_type": "code",
   "execution_count": null,
   "id": "ac957509-6bdc-4d96-b877-f8c33ec1f0e2",
   "metadata": {},
   "outputs": [],
   "source": [
    "df = pd.read_csv('telco_churn.csv')"
   ]
  },
  {
   "cell_type": "code",
   "execution_count": null,
   "id": "fcd6e2a9-da49-4ec5-9901-a6e0f52af731",
   "metadata": {},
   "outputs": [],
   "source": [
    "tempdict = {'coll':[1,2,3], 'co12':[4,5,6], 'co13':[7,8,9]}"
   ]
  },
  {
   "cell_type": "code",
   "execution_count": null,
   "id": "defc8c2a-eef4-4a34-8967-2f52457cd6d9",
   "metadata": {},
   "outputs": [],
   "source": [
    "dictdf = pd.DataFrame.from_dict(tempdict)"
   ]
  },
  {
   "cell_type": "code",
   "execution_count": null,
   "id": "87a36d06-45f2-47d7-b1d2-26eac5225d3f",
   "metadata": {},
   "outputs": [],
   "source": [
    "df.head(10)"
   ]
  },
  {
   "cell_type": "code",
   "execution_count": null,
   "id": "b107aea5-4f46-4573-9d4a-9c460a940d81",
   "metadata": {},
   "outputs": [],
   "source": [
    "dictdf.head()"
   ]
  },
  {
   "cell_type": "code",
   "execution_count": null,
   "id": "56aba4e3-3730-49be-9997-aebaff3a7e7d",
   "metadata": {},
   "outputs": [],
   "source": [
    "df.columns"
   ]
  },
  {
   "cell_type": "code",
   "execution_count": null,
   "id": "310295b9-d831-47cb-b8fc-17d0175a8234",
   "metadata": {},
   "outputs": [],
   "source": [
    "df.dtypes"
   ]
  },
  {
   "cell_type": "code",
   "execution_count": null,
   "id": "27829dad-3899-4d3f-99fe-926655ad4e64",
   "metadata": {},
   "outputs": [],
   "source": [
    "df.describe()"
   ]
  },
  {
   "cell_type": "code",
   "execution_count": null,
   "id": "a4cacedf-f71c-4016-863f-10521326ded8",
   "metadata": {},
   "outputs": [],
   "source": [
    "df.describe(include='object')"
   ]
  },
  {
   "cell_type": "code",
   "execution_count": null,
   "id": "4d9238da-45ae-4f6a-accb-9229c2dea680",
   "metadata": {},
   "outputs": [],
   "source": [
    "df.state"
   ]
  },
  {
   "cell_type": "code",
   "execution_count": null,
   "id": "fbfffa95-9db4-44b1-b0ec-e40219bde7cb",
   "metadata": {},
   "outputs": [],
   "source": [
    "df['International plan']"
   ]
  },
  {
   "cell_type": "code",
   "execution_count": null,
   "id": "240b9f29-9d5e-44dc-b34c-87cdba344792",
   "metadata": {},
   "outputs": [],
   "source": [
    "df[['State', 'Interional plan']]"
   ]
  },
  {
   "cell_type": "code",
   "execution_count": null,
   "id": "0e51b4f6-31bd-4020-a277-d801d146f68f",
   "metadata": {},
   "outputs": [],
   "source": [
    "df.Churn.unique()"
   ]
  },
  {
   "cell_type": "code",
   "execution_count": null,
   "id": "5853cb78-f722-42f8-84ef-25d7d71b8c58",
   "metadata": {},
   "outputs": [],
   "source": [
    "df.head()"
   ]
  },
  {
   "cell_type": "code",
   "execution_count": null,
   "id": "140d1ec1-2290-43b2-a41d-fce60326d474",
   "metadata": {},
   "outputs": [],
   "source": [
    "df[df['International plan']=='No']"
   ]
  },
  {
   "cell_type": "code",
   "execution_count": null,
   "id": "c75493c7-a49a-483e-b333-54284f280993",
   "metadata": {},
   "outputs": [],
   "source": [
    "df[(df['International plan']=='No') & (df['Churn']==False)]"
   ]
  },
  {
   "cell_type": "code",
   "execution_count": null,
   "id": "6a926e26-6c28-4936-80dd-48deb4f064aa",
   "metadata": {},
   "outputs": [],
   "source": [
    "df[(df['International plan']=='No') & (df['Churn']==True)]"
   ]
  },
  {
   "cell_type": "code",
   "execution_count": null,
   "id": "8a40a7ea-2e4a-4d99-929a-157507795004",
   "metadata": {},
   "outputs": [],
   "source": [
    "df.iloc[14]"
   ]
  },
  {
   "cell_type": "code",
   "execution_count": null,
   "id": "11abb66a-1d4a-4970-bca0-5330e9676b27",
   "metadata": {},
   "outputs": [],
   "source": [
    "df.iloc[14, 0]"
   ]
  },
  {
   "cell_type": "code",
   "execution_count": null,
   "id": "f0b6e5b4-e13b-4268-9e16-c22974837830",
   "metadata": {},
   "outputs": [],
   "source": [
    "df.iloc[22, 33]"
   ]
  },
  {
   "cell_type": "code",
   "execution_count": null,
   "id": "1f1936b5-c240-442c-b7e5-4523c22efc4d",
   "metadata": {},
   "outputs": [],
   "source": [
    "state = df.copy()\n",
    "state.set_index('State', inplace=True)"
   ]
  },
  {
   "cell_type": "code",
   "execution_count": null,
   "id": "3839d769-df0f-4a9d-a474-fc2617be1b41",
   "metadata": {},
   "outputs": [],
   "source": [
    "state.head()"
   ]
  },
  {
   "cell_type": "code",
   "execution_count": null,
   "id": "7e7e2abf-07c4-46a7-aa4d-8b4077eb8800",
   "metadata": {},
   "outputs": [],
   "source": [
    "state.loc['OH']"
   ]
  },
  {
   "cell_type": "code",
   "execution_count": null,
   "id": "4da20afb-2260-4587-85c6-f3f818a683df",
   "metadata": {},
   "outputs": [],
   "source": [
    "df.isnull().sum()"
   ]
  },
  {
   "cell_type": "code",
   "execution_count": null,
   "id": "735848ae-acfa-4347-89a4-11c5c401cc21",
   "metadata": {},
   "outputs": [],
   "source": [
    "df.dropna(inplace=True)"
   ]
  },
  {
   "cell_type": "code",
   "execution_count": null,
   "id": "20a7d51c-7087-4862-9ebb-46ddee4a2b55",
   "metadata": {},
   "outputs": [],
   "source": [
    "df.isnull().sum()"
   ]
  },
  {
   "cell_type": "code",
   "execution_count": null,
   "id": "566ec855-38dd-44d1-af4e-c094424a7844",
   "metadata": {},
   "outputs": [],
   "source": [
    "df.drop('Area code', axis = 1)"
   ]
  },
  {
   "cell_type": "code",
   "execution_count": null,
   "id": "a697f530-6652-49fa-b65e-7f7174b94ead",
   "metadata": {},
   "outputs": [],
   "source": [
    "df['New Column'] = df['Total night minutres'] + df['Total intl minutes']"
   ]
  },
  {
   "cell_type": "code",
   "execution_count": null,
   "id": "3f418d31-62c4-48fd-b42f-bcdefd463949",
   "metadata": {},
   "outputs": [],
   "source": [
    "df.head()"
   ]
  },
  {
   "cell_type": "code",
   "execution_count": null,
   "id": "ecf5deaf-5cd4-4635-adbb-ba9579de804c",
   "metadata": {},
   "outputs": [],
   "source": [
    "df.iloc[0, -1] = 10"
   ]
  },
  {
   "cell_type": "code",
   "execution_count": null,
   "id": "e9537ba3-34c2-4822-8a35-ddfb6ecd0c3a",
   "metadata": {},
   "outputs": [],
   "source": [
    "df.head()"
   ]
  },
  {
   "cell_type": "code",
   "execution_count": null,
   "id": "a946ad7c-54c0-4ea6-baa2-4a054845a407",
   "metadata": {},
   "outputs": [],
   "source": [
    "df['Churn Binary'] = df['Churn'].apply(lambda x: 1 if x==True else 0)"
   ]
  },
  {
   "cell_type": "code",
   "execution_count": null,
   "id": "70e064ff-d726-4f54-8369-41a0f22667f9",
   "metadata": {},
   "outputs": [],
   "source": [
    "df[df['Churn']==True].head()"
   ]
  },
  {
   "cell_type": "code",
   "execution_count": null,
   "id": "066dd1de-7a30-42f8-b082-322d65966d1b",
   "metadata": {},
   "outputs": [],
   "source": [
    "df.to_cav('output.cav')"
   ]
  },
  {
   "cell_type": "code",
   "execution_count": null,
   "id": "c26af428-009f-4483-9900-09ebc2261138",
   "metadata": {},
   "outputs": [],
   "source": [
    "df.to_json()"
   ]
  },
  {
   "cell_type": "code",
   "execution_count": null,
   "id": "25443491-bcde-47ff-be12-271fd7bedb98",
   "metadata": {},
   "outputs": [],
   "source": [
    "df.to_html()"
   ]
  },
  {
   "cell_type": "code",
   "execution_count": null,
   "id": "bb54638b-b6a2-4ed9-9bac-7756553ec5fa",
   "metadata": {},
   "outputs": [],
   "source": [
    "del df"
   ]
  },
  {
   "cell_type": "code",
   "execution_count": null,
   "id": "524d779b-612d-40d9-89b2-a4c8ef8f5679",
   "metadata": {},
   "outputs": [],
   "source": []
  }
 ],
 "metadata": {
  "kernelspec": {
   "display_name": "Python 3 (ipykernel)",
   "language": "python",
   "name": "python3"
  },
  "language_info": {
   "codemirror_mode": {
    "name": "ipython",
    "version": 3
   },
   "file_extension": ".py",
   "mimetype": "text/x-python",
   "name": "python",
   "nbconvert_exporter": "python",
   "pygments_lexer": "ipython3",
   "version": "3.11.7"
  }
 },
 "nbformat": 4,
 "nbformat_minor": 5
}
